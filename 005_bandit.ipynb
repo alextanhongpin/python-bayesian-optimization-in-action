{
 "cells": [
  {
   "cell_type": "code",
   "execution_count": 1,
   "id": "efb98e2f-7f9c-4d2c-b404-47c29109c0dc",
   "metadata": {},
   "outputs": [],
   "source": [
    "from IPython.display import Image, clear_output, display\n",
    "from ipywidgets import interact, widgets\n",
    "\n",
    "from bo import visualize_improvement"
   ]
  },
  {
   "cell_type": "code",
   "execution_count": 2,
   "id": "f78f0205-312e-461b-a229-94ce98434072",
   "metadata": {},
   "outputs": [
    {
     "data": {
      "application/vnd.jupyter.widget-view+json": {
       "model_id": "13f892022d8347f68525d08554a274fe",
       "version_major": 2,
       "version_minor": 0
      },
      "text/plain": [
       "  0%|          | 0/500 [00:00<?, ?it/s]"
      ]
     },
     "metadata": {},
     "output_type": "display_data"
    },
    {
     "data": {
      "application/vnd.jupyter.widget-view+json": {
       "model_id": "aed25587068b42acba00fd2bb153fced",
       "version_major": 2,
       "version_minor": 0
      },
      "text/plain": [
       "  0%|          | 0/500 [00:00<?, ?it/s]"
      ]
     },
     "metadata": {},
     "output_type": "display_data"
    },
    {
     "data": {
      "application/vnd.jupyter.widget-view+json": {
       "model_id": "66b8bcd3a5bc4927a5216d5e9eb466a5",
       "version_major": 2,
       "version_minor": 0
      },
      "text/plain": [
       "  0%|          | 0/500 [00:00<?, ?it/s]"
      ]
     },
     "metadata": {},
     "output_type": "display_data"
    },
    {
     "data": {
      "application/vnd.jupyter.widget-view+json": {
       "model_id": "ff735f3884804ec786ed56c63c1041b6",
       "version_major": 2,
       "version_minor": 0
      },
      "text/plain": [
       "  0%|          | 0/500 [00:00<?, ?it/s]"
      ]
     },
     "metadata": {},
     "output_type": "display_data"
    },
    {
     "data": {
      "application/vnd.jupyter.widget-view+json": {
       "model_id": "2e5bf783776b4986b1ea62cc36e7fff1",
       "version_major": 2,
       "version_minor": 0
      },
      "text/plain": [
       "  0%|          | 0/500 [00:00<?, ?it/s]"
      ]
     },
     "metadata": {},
     "output_type": "display_data"
    },
    {
     "data": {
      "application/vnd.jupyter.widget-view+json": {
       "model_id": "f68c01c01793476ab88d32082a790295",
       "version_major": 2,
       "version_minor": 0
      },
      "text/plain": [
       "  0%|          | 0/500 [00:00<?, ?it/s]"
      ]
     },
     "metadata": {},
     "output_type": "display_data"
    },
    {
     "name": "stderr",
     "output_type": "stream",
     "text": [
      "/Users/alextanhongpin/Library/Caches/pypoetry/virtualenvs/python-bayesian-optimization-in-action-aU6qUxK9-py3.12/lib/python3.12/site-packages/botorch/optim/optimize.py:652: RuntimeWarning: Optimization failed in `gen_candidates_scipy` with the following warning(s):\n",
      "[OptimizationWarning('Optimization failed within `scipy.optimize.minimize` with status 2 and message ABNORMAL: .')]\n",
      "Trying again with a new set of initial conditions.\n",
      "  return _optimize_acqf_batch(opt_inputs=opt_inputs)\n"
     ]
    },
    {
     "data": {
      "application/vnd.jupyter.widget-view+json": {
       "model_id": "37c689504a1145ac8c09090ff915e644",
       "version_major": 2,
       "version_minor": 0
      },
      "text/plain": [
       "  0%|          | 0/500 [00:00<?, ?it/s]"
      ]
     },
     "metadata": {},
     "output_type": "display_data"
    },
    {
     "data": {
      "application/vnd.jupyter.widget-view+json": {
       "model_id": "7472ebd80b40485abda999c42026f44d",
       "version_major": 2,
       "version_minor": 0
      },
      "text/plain": [
       "  0%|          | 0/500 [00:00<?, ?it/s]"
      ]
     },
     "metadata": {},
     "output_type": "display_data"
    },
    {
     "data": {
      "application/vnd.jupyter.widget-view+json": {
       "model_id": "8e021d05fe13433fa8faa76b20f3c15e",
       "version_major": 2,
       "version_minor": 0
      },
      "text/plain": [
       "  0%|          | 0/500 [00:00<?, ?it/s]"
      ]
     },
     "metadata": {},
     "output_type": "display_data"
    },
    {
     "data": {
      "application/vnd.jupyter.widget-view+json": {
       "model_id": "75c7f5db238741fda72ab422cbad7168",
       "version_major": 2,
       "version_minor": 0
      },
      "text/plain": [
       "  0%|          | 0/500 [00:00<?, ?it/s]"
      ]
     },
     "metadata": {},
     "output_type": "display_data"
    },
    {
     "data": {
      "text/plain": [
       "(tensor([[ 1.0000],\n",
       "         [ 2.0000],\n",
       "         [-1.0771],\n",
       "         [ 1.3371],\n",
       "         [ 1.4680],\n",
       "         [ 1.5210],\n",
       "         [ 1.5248],\n",
       "         [ 1.5249],\n",
       "         [ 1.5243],\n",
       "         [ 1.5238],\n",
       "         [ 1.5237],\n",
       "         [ 1.5225]]),\n",
       " tensor([1.6054, 1.5029, 1.0002, 2.0917, 2.1879, 2.2027, 2.2031, 2.2031, 2.2031,\n",
       "         2.2030, 2.2030, 2.2029]))"
      ]
     },
     "execution_count": 2,
     "metadata": {},
     "output_type": "execute_result"
    }
   ],
   "source": [
    "visualize_improvement(\"ucb\", beta=1)"
   ]
  },
  {
   "cell_type": "code",
   "execution_count": 3,
   "id": "882620e7-cec7-4122-8a34-d7297bde0619",
   "metadata": {},
   "outputs": [
    {
     "data": {
      "application/vnd.jupyter.widget-view+json": {
       "model_id": "23c2f2f5064c42e69961763bc1227606",
       "version_major": 2,
       "version_minor": 0
      },
      "text/plain": [
       "interactive(children=(Play(value=0, description='Press play', interval=500, max=9), IntSlider(value=0, descrip…"
      ]
     },
     "metadata": {},
     "output_type": "display_data"
    }
   ],
   "source": [
    "play = widgets.Play(\n",
    "    value=0,\n",
    "    min=0,\n",
    "    max=9,\n",
    "    step=1,\n",
    "    interval=500,\n",
    "    description=\"Press play\",\n",
    "    disabled=False,\n",
    ")\n",
    "slider = widgets.IntSlider(min=0, max=9)\n",
    "widgets.jslink((play, \"value\"), (slider, \"value\"))\n",
    "widgets.HBox([play, slider])\n",
    "\n",
    "\n",
    "@interact(play=play, slider=slider)\n",
    "def f(play, slider):\n",
    "    clear_output(wait=True)\n",
    "    display(Image(f\"tmp/ucb_{play}.png\"))"
   ]
  },
  {
   "cell_type": "code",
   "execution_count": 4,
   "id": "7aa61c7c-a91f-4875-ad71-731998fe5081",
   "metadata": {},
   "outputs": [
    {
     "data": {
      "application/vnd.jupyter.widget-view+json": {
       "model_id": "5a93f282d2474562aa885d51aabe53d3",
       "version_major": 2,
       "version_minor": 0
      },
      "text/plain": [
       "  0%|          | 0/500 [00:00<?, ?it/s]"
      ]
     },
     "metadata": {},
     "output_type": "display_data"
    },
    {
     "data": {
      "application/vnd.jupyter.widget-view+json": {
       "model_id": "88cef0ec78af4618b01c464d6369849d",
       "version_major": 2,
       "version_minor": 0
      },
      "text/plain": [
       "  0%|          | 0/500 [00:00<?, ?it/s]"
      ]
     },
     "metadata": {},
     "output_type": "display_data"
    },
    {
     "data": {
      "application/vnd.jupyter.widget-view+json": {
       "model_id": "68522152abfc42ebba04ed15c5b97be1",
       "version_major": 2,
       "version_minor": 0
      },
      "text/plain": [
       "  0%|          | 0/500 [00:00<?, ?it/s]"
      ]
     },
     "metadata": {},
     "output_type": "display_data"
    },
    {
     "data": {
      "application/vnd.jupyter.widget-view+json": {
       "model_id": "2a1702cffda84ffdbaa4de1a139a8ff6",
       "version_major": 2,
       "version_minor": 0
      },
      "text/plain": [
       "  0%|          | 0/500 [00:00<?, ?it/s]"
      ]
     },
     "metadata": {},
     "output_type": "display_data"
    },
    {
     "data": {
      "application/vnd.jupyter.widget-view+json": {
       "model_id": "b0d1011b327049b5bb24a6b85f64b849",
       "version_major": 2,
       "version_minor": 0
      },
      "text/plain": [
       "  0%|          | 0/500 [00:00<?, ?it/s]"
      ]
     },
     "metadata": {},
     "output_type": "display_data"
    },
    {
     "data": {
      "application/vnd.jupyter.widget-view+json": {
       "model_id": "ec89a13814be42f5a01a0eddcde5df1c",
       "version_major": 2,
       "version_minor": 0
      },
      "text/plain": [
       "  0%|          | 0/500 [00:00<?, ?it/s]"
      ]
     },
     "metadata": {},
     "output_type": "display_data"
    },
    {
     "data": {
      "application/vnd.jupyter.widget-view+json": {
       "model_id": "eacf976345594f29b342e30d40798d67",
       "version_major": 2,
       "version_minor": 0
      },
      "text/plain": [
       "  0%|          | 0/500 [00:00<?, ?it/s]"
      ]
     },
     "metadata": {},
     "output_type": "display_data"
    },
    {
     "data": {
      "application/vnd.jupyter.widget-view+json": {
       "model_id": "d44f908bdc5d44e0b6c60fae798778d9",
       "version_major": 2,
       "version_minor": 0
      },
      "text/plain": [
       "  0%|          | 0/500 [00:00<?, ?it/s]"
      ]
     },
     "metadata": {},
     "output_type": "display_data"
    },
    {
     "data": {
      "application/vnd.jupyter.widget-view+json": {
       "model_id": "b1f772c32e8545a8ac8e4ea737a33869",
       "version_major": 2,
       "version_minor": 0
      },
      "text/plain": [
       "  0%|          | 0/500 [00:00<?, ?it/s]"
      ]
     },
     "metadata": {},
     "output_type": "display_data"
    },
    {
     "data": {
      "application/vnd.jupyter.widget-view+json": {
       "model_id": "08320e96977642c4b9adb7d568f553bd",
       "version_major": 2,
       "version_minor": 0
      },
      "text/plain": [
       "  0%|          | 0/500 [00:00<?, ?it/s]"
      ]
     },
     "metadata": {},
     "output_type": "display_data"
    },
    {
     "data": {
      "text/plain": [
       "(tensor([[ 1.0000],\n",
       "         [ 2.0000],\n",
       "         [-1.3380],\n",
       "         [ 5.0000],\n",
       "         [ 4.4613],\n",
       "         [ 4.2093],\n",
       "         [ 4.6015],\n",
       "         [ 4.5784],\n",
       "         [ 4.5788],\n",
       "         [ 4.5780],\n",
       "         [ 4.5781],\n",
       "         [ 4.5783]]),\n",
       " tensor([1.6054, 1.5029, 1.0143, 4.8633, 6.9494, 5.5486, 7.1408, 7.1430, 7.1431,\n",
       "         7.1429, 7.1429, 7.1430]))"
      ]
     },
     "execution_count": 4,
     "metadata": {},
     "output_type": "execute_result"
    }
   ],
   "source": [
    "visualize_improvement(\"ucb\", beta=2)"
   ]
  },
  {
   "cell_type": "code",
   "execution_count": 5,
   "id": "469abe75-5541-4c0a-be45-5270d8dab1fd",
   "metadata": {},
   "outputs": [
    {
     "data": {
      "application/vnd.jupyter.widget-view+json": {
       "model_id": "6d7fef0bae804254a5c632658552bf6e",
       "version_major": 2,
       "version_minor": 0
      },
      "text/plain": [
       "interactive(children=(Play(value=0, description='Press play', interval=500, max=9), IntSlider(value=0, descrip…"
      ]
     },
     "metadata": {},
     "output_type": "display_data"
    }
   ],
   "source": [
    "play = widgets.Play(\n",
    "    value=0,\n",
    "    min=0,\n",
    "    max=9,\n",
    "    step=1,\n",
    "    interval=500,\n",
    "    description=\"Press play\",\n",
    "    disabled=False,\n",
    ")\n",
    "slider = widgets.IntSlider(min=0, max=9)\n",
    "widgets.jslink((play, \"value\"), (slider, \"value\"))\n",
    "widgets.HBox([play, slider])\n",
    "\n",
    "\n",
    "@interact(play=play, slider=slider)\n",
    "def f(play, slider):\n",
    "    clear_output(wait=True)\n",
    "    display(Image(f\"tmp/ucb_{play}.png\"))"
   ]
  },
  {
   "cell_type": "markdown",
   "id": "e9082c64-c2d2-4609-ba4c-ea654879319a",
   "metadata": {},
   "source": [
    "## Smart Sampling with Thompson policy sampling"
   ]
  },
  {
   "cell_type": "code",
   "execution_count": 6,
   "id": "e7040201-007a-4112-8a20-8f9a2438018c",
   "metadata": {},
   "outputs": [
    {
     "data": {
      "application/vnd.jupyter.widget-view+json": {
       "model_id": "0fc4f690247b43bcaebbd826177572c2",
       "version_major": 2,
       "version_minor": 0
      },
      "text/plain": [
       "  0%|          | 0/500 [00:00<?, ?it/s]"
      ]
     },
     "metadata": {},
     "output_type": "display_data"
    },
    {
     "name": "stderr",
     "output_type": "stream",
     "text": [
      "/Users/alextanhongpin/Library/Caches/pypoetry/virtualenvs/python-bayesian-optimization-in-action-aU6qUxK9-py3.12/lib/python3.12/site-packages/linear_operator/utils/cholesky.py:40: NumericalWarning: A not p.d., added jitter of 1.0e-06 to the diagonal\n",
      "  warnings.warn(\n"
     ]
    },
    {
     "data": {
      "application/vnd.jupyter.widget-view+json": {
       "model_id": "c6a0276818b74352b13d4fc87dfc8cb4",
       "version_major": 2,
       "version_minor": 0
      },
      "text/plain": [
       "  0%|          | 0/500 [00:00<?, ?it/s]"
      ]
     },
     "metadata": {},
     "output_type": "display_data"
    },
    {
     "name": "stderr",
     "output_type": "stream",
     "text": [
      "/Users/alextanhongpin/Library/Caches/pypoetry/virtualenvs/python-bayesian-optimization-in-action-aU6qUxK9-py3.12/lib/python3.12/site-packages/linear_operator/utils/cholesky.py:40: NumericalWarning: A not p.d., added jitter of 1.0e-05 to the diagonal\n",
      "  warnings.warn(\n",
      "/Users/alextanhongpin/Library/Caches/pypoetry/virtualenvs/python-bayesian-optimization-in-action-aU6qUxK9-py3.12/lib/python3.12/site-packages/linear_operator/utils/cholesky.py:40: NumericalWarning: A not p.d., added jitter of 1.0e-04 to the diagonal\n",
      "  warnings.warn(\n"
     ]
    },
    {
     "data": {
      "application/vnd.jupyter.widget-view+json": {
       "model_id": "57ca1edcb6864d739af6a5c499fe91ca",
       "version_major": 2,
       "version_minor": 0
      },
      "text/plain": [
       "  0%|          | 0/500 [00:00<?, ?it/s]"
      ]
     },
     "metadata": {},
     "output_type": "display_data"
    },
    {
     "data": {
      "application/vnd.jupyter.widget-view+json": {
       "model_id": "17758d2f86a54e7dbfba2128d81e2c27",
       "version_major": 2,
       "version_minor": 0
      },
      "text/plain": [
       "  0%|          | 0/500 [00:00<?, ?it/s]"
      ]
     },
     "metadata": {},
     "output_type": "display_data"
    },
    {
     "name": "stderr",
     "output_type": "stream",
     "text": [
      "/Users/alextanhongpin/Library/Caches/pypoetry/virtualenvs/python-bayesian-optimization-in-action-aU6qUxK9-py3.12/lib/python3.12/site-packages/linear_operator/utils/cholesky.py:40: NumericalWarning: A not p.d., added jitter of 1.0e-03 to the diagonal\n",
      "  warnings.warn(\n"
     ]
    },
    {
     "data": {
      "application/vnd.jupyter.widget-view+json": {
       "model_id": "29b9fe8172fc4b839f32ad03fe4c755a",
       "version_major": 2,
       "version_minor": 0
      },
      "text/plain": [
       "  0%|          | 0/500 [00:00<?, ?it/s]"
      ]
     },
     "metadata": {},
     "output_type": "display_data"
    },
    {
     "data": {
      "application/vnd.jupyter.widget-view+json": {
       "model_id": "403ba515d2f8407594591b64ca41fe4a",
       "version_major": 2,
       "version_minor": 0
      },
      "text/plain": [
       "  0%|          | 0/500 [00:00<?, ?it/s]"
      ]
     },
     "metadata": {},
     "output_type": "display_data"
    },
    {
     "data": {
      "application/vnd.jupyter.widget-view+json": {
       "model_id": "5b9ff8f3b21146da9c3eb5bbd1768b5a",
       "version_major": 2,
       "version_minor": 0
      },
      "text/plain": [
       "  0%|          | 0/500 [00:00<?, ?it/s]"
      ]
     },
     "metadata": {},
     "output_type": "display_data"
    },
    {
     "data": {
      "application/vnd.jupyter.widget-view+json": {
       "model_id": "b150d5b91e4f49b1a35023a36eb391ab",
       "version_major": 2,
       "version_minor": 0
      },
      "text/plain": [
       "  0%|          | 0/500 [00:00<?, ?it/s]"
      ]
     },
     "metadata": {},
     "output_type": "display_data"
    },
    {
     "data": {
      "application/vnd.jupyter.widget-view+json": {
       "model_id": "f86ed67411ca4203ab54ef0027939b90",
       "version_major": 2,
       "version_minor": 0
      },
      "text/plain": [
       "  0%|          | 0/500 [00:00<?, ?it/s]"
      ]
     },
     "metadata": {},
     "output_type": "display_data"
    },
    {
     "data": {
      "application/vnd.jupyter.widget-view+json": {
       "model_id": "d5fcbbae27ed401aa56268e8b2249d97",
       "version_major": 2,
       "version_minor": 0
      },
      "text/plain": [
       "  0%|          | 0/500 [00:00<?, ?it/s]"
      ]
     },
     "metadata": {},
     "output_type": "display_data"
    }
   ],
   "source": [
    "import botorch\n",
    "import matplotlib.pyplot as plt\n",
    "import torch\n",
    "\n",
    "from bo import fit_gp_model, forrester_1d, visualize_gp_belief_and_policy\n",
    "\n",
    "bound = 5\n",
    "\n",
    "\n",
    "xs = torch.linspace(-bound, bound, bound * 100 + 1).unsqueeze(1)\n",
    "ys = forrester_1d(xs)\n",
    "\n",
    "train_x = torch.tensor([[1.0], [2.0]])\n",
    "train_y = forrester_1d(train_x)\n",
    "\n",
    "num_candidates = 1000\n",
    "num_queries = 10\n",
    "\n",
    "\n",
    "torch.manual_seed(1)\n",
    "\n",
    "for i in range(num_queries):\n",
    "    # print(\"iteration\", i)\n",
    "    # print(\"incumbent\", train_x[train_y.argmax()], train_y.max())\n",
    "\n",
    "    sobol = torch.quasirandom.SobolEngine(1, scramble=True)\n",
    "\n",
    "    candidate_x = sobol.draw(num_candidates)\n",
    "    candidate_x = 10 * candidate_x - 5\n",
    "\n",
    "    model, likelihood = fit_gp_model(train_x, train_y)\n",
    "\n",
    "    ts = botorch.generation.MaxPosteriorSampling(model, replacement=False)\n",
    "    next_x = ts(candidate_x, num_samples=1)\n",
    "\n",
    "    fig = visualize_gp_belief_and_policy(\n",
    "        model, likelihood, next_x=next_x, xs=xs, ys=ys, train_x=train_x, train_y=train_y\n",
    "    )\n",
    "    fig.suptitle(\n",
    "        f\"TS acquisition function (step={i+1}, x={train_x[train_y.argmax()].item():.2f}, y={train_y.max():.2f})\",\n",
    "        fontsize=20,\n",
    "    )\n",
    "\n",
    "    image_path = f\"tmp/ts_{i}.png\"\n",
    "    plt.savefig(image_path, bbox_inches=\"tight\")\n",
    "    plt.close(fig)\n",
    "\n",
    "    next_y = forrester_1d(next_x)\n",
    "\n",
    "    train_x = torch.cat([train_x, next_x])\n",
    "    train_y = torch.cat([train_y, next_y])"
   ]
  },
  {
   "cell_type": "code",
   "execution_count": 7,
   "id": "6fc16f4f-0326-47c1-91b8-7b6b02934790",
   "metadata": {},
   "outputs": [
    {
     "data": {
      "application/vnd.jupyter.widget-view+json": {
       "model_id": "ea8a7042e68041e0b198100dc54a1702",
       "version_major": 2,
       "version_minor": 0
      },
      "text/plain": [
       "interactive(children=(Play(value=0, description='Press play', interval=500, max=9), IntSlider(value=0, descrip…"
      ]
     },
     "metadata": {},
     "output_type": "display_data"
    }
   ],
   "source": [
    "play = widgets.Play(\n",
    "    value=0,\n",
    "    min=0,\n",
    "    max=9,\n",
    "    step=1,\n",
    "    interval=500,\n",
    "    description=\"Press play\",\n",
    "    disabled=False,\n",
    ")\n",
    "slider = widgets.IntSlider(min=0, max=9)\n",
    "widgets.jslink((play, \"value\"), (slider, \"value\"))\n",
    "widgets.HBox([play, slider])\n",
    "\n",
    "\n",
    "@interact(play=play, slider=slider)\n",
    "def f(play, slider):\n",
    "    clear_output(wait=True)\n",
    "    display(Image(f\"tmp/ts_{play}.png\"))"
   ]
  }
 ],
 "metadata": {
  "kernelspec": {
   "display_name": "Python 3 (ipykernel)",
   "language": "python",
   "name": "python3"
  },
  "language_info": {
   "codemirror_mode": {
    "name": "ipython",
    "version": 3
   },
   "file_extension": ".py",
   "mimetype": "text/x-python",
   "name": "python",
   "nbconvert_exporter": "python",
   "pygments_lexer": "ipython3",
   "version": "3.12.9"
  }
 },
 "nbformat": 4,
 "nbformat_minor": 5
}
