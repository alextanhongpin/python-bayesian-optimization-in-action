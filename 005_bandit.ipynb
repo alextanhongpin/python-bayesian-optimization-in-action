{
 "cells": [
  {
   "cell_type": "code",
   "execution_count": 1,
   "id": "efb98e2f-7f9c-4d2c-b404-47c29109c0dc",
   "metadata": {},
   "outputs": [],
   "source": [
    "from IPython.display import Image, clear_output, display\n",
    "from ipywidgets import interact, widgets\n",
    "\n",
    "from bo.plots import visualize_improvement"
   ]
  },
  {
   "cell_type": "code",
   "execution_count": 2,
   "id": "f78f0205-312e-461b-a229-94ce98434072",
   "metadata": {},
   "outputs": [
    {
     "data": {
      "application/vnd.jupyter.widget-view+json": {
       "model_id": "9d643fd9bdf2476a8d6054b84ff220a3",
       "version_major": 2,
       "version_minor": 0
      },
      "text/plain": [
       "  0%|          | 0/500 [00:00<?, ?it/s]"
      ]
     },
     "metadata": {},
     "output_type": "display_data"
    },
    {
     "data": {
      "application/vnd.jupyter.widget-view+json": {
       "model_id": "6a9b96de9488403bb5cda38078ccf3ca",
       "version_major": 2,
       "version_minor": 0
      },
      "text/plain": [
       "  0%|          | 0/500 [00:00<?, ?it/s]"
      ]
     },
     "metadata": {},
     "output_type": "display_data"
    },
    {
     "data": {
      "application/vnd.jupyter.widget-view+json": {
       "model_id": "cf05054e1b264496be3975c2a35ecdf7",
       "version_major": 2,
       "version_minor": 0
      },
      "text/plain": [
       "  0%|          | 0/500 [00:00<?, ?it/s]"
      ]
     },
     "metadata": {},
     "output_type": "display_data"
    },
    {
     "data": {
      "application/vnd.jupyter.widget-view+json": {
       "model_id": "ea61ae4bad3c45f9847127a04a01517f",
       "version_major": 2,
       "version_minor": 0
      },
      "text/plain": [
       "  0%|          | 0/500 [00:00<?, ?it/s]"
      ]
     },
     "metadata": {},
     "output_type": "display_data"
    },
    {
     "data": {
      "application/vnd.jupyter.widget-view+json": {
       "model_id": "a6579258f81c42fe807e76967112f3df",
       "version_major": 2,
       "version_minor": 0
      },
      "text/plain": [
       "  0%|          | 0/500 [00:00<?, ?it/s]"
      ]
     },
     "metadata": {},
     "output_type": "display_data"
    },
    {
     "data": {
      "application/vnd.jupyter.widget-view+json": {
       "model_id": "b3c8c7a1b65545d7930cfc3b32ae5e93",
       "version_major": 2,
       "version_minor": 0
      },
      "text/plain": [
       "  0%|          | 0/500 [00:00<?, ?it/s]"
      ]
     },
     "metadata": {},
     "output_type": "display_data"
    },
    {
     "data": {
      "application/vnd.jupyter.widget-view+json": {
       "model_id": "c4c6bb01e38848c1be922526a3736661",
       "version_major": 2,
       "version_minor": 0
      },
      "text/plain": [
       "  0%|          | 0/500 [00:00<?, ?it/s]"
      ]
     },
     "metadata": {},
     "output_type": "display_data"
    },
    {
     "name": "stderr",
     "output_type": "stream",
     "text": [
      "/Users/alextanhongpin/Library/Caches/pypoetry/virtualenvs/python-bayesian-optimization-in-action-aU6qUxK9-py3.12/lib/python3.12/site-packages/botorch/optim/optimize.py:652: RuntimeWarning: Optimization failed in `gen_candidates_scipy` with the following warning(s):\n",
      "[OptimizationWarning('Optimization failed within `scipy.optimize.minimize` with status 2 and message ABNORMAL: .')]\n",
      "Trying again with a new set of initial conditions.\n",
      "  return _optimize_acqf_batch(opt_inputs=opt_inputs)\n"
     ]
    },
    {
     "data": {
      "application/vnd.jupyter.widget-view+json": {
       "model_id": "1731749b14464460ad044b28b1f4e86d",
       "version_major": 2,
       "version_minor": 0
      },
      "text/plain": [
       "  0%|          | 0/500 [00:00<?, ?it/s]"
      ]
     },
     "metadata": {},
     "output_type": "display_data"
    },
    {
     "data": {
      "application/vnd.jupyter.widget-view+json": {
       "model_id": "79bcee5614264b348e9582c77b2f63a1",
       "version_major": 2,
       "version_minor": 0
      },
      "text/plain": [
       "  0%|          | 0/500 [00:00<?, ?it/s]"
      ]
     },
     "metadata": {},
     "output_type": "display_data"
    },
    {
     "data": {
      "application/vnd.jupyter.widget-view+json": {
       "model_id": "a0cdafa0e1834d61884b6d6d8e078ce3",
       "version_major": 2,
       "version_minor": 0
      },
      "text/plain": [
       "  0%|          | 0/500 [00:00<?, ?it/s]"
      ]
     },
     "metadata": {},
     "output_type": "display_data"
    },
    {
     "data": {
      "text/plain": [
       "(tensor([[ 1.0000],\n",
       "         [ 2.0000],\n",
       "         [-1.0769],\n",
       "         [ 1.3361],\n",
       "         [ 1.4670],\n",
       "         [ 1.5210],\n",
       "         [ 1.5246],\n",
       "         [ 1.5248],\n",
       "         [ 1.5243],\n",
       "         [ 1.5245],\n",
       "         [ 1.5235],\n",
       "         [ 1.5227]]),\n",
       " tensor([1.6054, 1.5029, 1.0002, 2.0906, 2.1874, 2.2027, 2.2031, 2.2031, 2.2031,\n",
       "         2.2031, 2.2030, 2.2029]))"
      ]
     },
     "execution_count": 2,
     "metadata": {},
     "output_type": "execute_result"
    }
   ],
   "source": [
    "visualize_improvement(\"ucb\", beta=1)"
   ]
  },
  {
   "cell_type": "code",
   "execution_count": 3,
   "id": "882620e7-cec7-4122-8a34-d7297bde0619",
   "metadata": {},
   "outputs": [
    {
     "data": {
      "application/vnd.jupyter.widget-view+json": {
       "model_id": "a1e892a812b24ff399ef8451af8d7323",
       "version_major": 2,
       "version_minor": 0
      },
      "text/plain": [
       "interactive(children=(Play(value=0, description='Press play', interval=500, max=9), IntSlider(value=0, descrip…"
      ]
     },
     "metadata": {},
     "output_type": "display_data"
    }
   ],
   "source": [
    "play = widgets.Play(\n",
    "    value=0,\n",
    "    min=0,\n",
    "    max=9,\n",
    "    step=1,\n",
    "    interval=500,\n",
    "    description=\"Press play\",\n",
    "    disabled=False,\n",
    ")\n",
    "slider = widgets.IntSlider(min=0, max=9)\n",
    "widgets.jslink((play, \"value\"), (slider, \"value\"))\n",
    "widgets.HBox([play, slider])\n",
    "\n",
    "\n",
    "@interact(play=play, slider=slider)\n",
    "def f(play, slider):\n",
    "    clear_output(wait=True)\n",
    "    display(Image(f\"tmp/ucb_{play}.png\"))"
   ]
  },
  {
   "cell_type": "code",
   "execution_count": 4,
   "id": "7aa61c7c-a91f-4875-ad71-731998fe5081",
   "metadata": {},
   "outputs": [
    {
     "data": {
      "application/vnd.jupyter.widget-view+json": {
       "model_id": "3e2ee9c4ef5a40299b953a88e2f52433",
       "version_major": 2,
       "version_minor": 0
      },
      "text/plain": [
       "  0%|          | 0/500 [00:00<?, ?it/s]"
      ]
     },
     "metadata": {},
     "output_type": "display_data"
    },
    {
     "data": {
      "application/vnd.jupyter.widget-view+json": {
       "model_id": "aa326ae63a4244e0847b976408d831a1",
       "version_major": 2,
       "version_minor": 0
      },
      "text/plain": [
       "  0%|          | 0/500 [00:00<?, ?it/s]"
      ]
     },
     "metadata": {},
     "output_type": "display_data"
    },
    {
     "data": {
      "application/vnd.jupyter.widget-view+json": {
       "model_id": "2c8452c45b5b4cf3a8748d465693fe1e",
       "version_major": 2,
       "version_minor": 0
      },
      "text/plain": [
       "  0%|          | 0/500 [00:00<?, ?it/s]"
      ]
     },
     "metadata": {},
     "output_type": "display_data"
    },
    {
     "data": {
      "application/vnd.jupyter.widget-view+json": {
       "model_id": "868172f728964e19ad20cef297f12d7c",
       "version_major": 2,
       "version_minor": 0
      },
      "text/plain": [
       "  0%|          | 0/500 [00:00<?, ?it/s]"
      ]
     },
     "metadata": {},
     "output_type": "display_data"
    },
    {
     "data": {
      "application/vnd.jupyter.widget-view+json": {
       "model_id": "b5a6a805a6fa463baeb2dd3c45928bf2",
       "version_major": 2,
       "version_minor": 0
      },
      "text/plain": [
       "  0%|          | 0/500 [00:00<?, ?it/s]"
      ]
     },
     "metadata": {},
     "output_type": "display_data"
    },
    {
     "data": {
      "application/vnd.jupyter.widget-view+json": {
       "model_id": "01623e18d6844fb99e9147178f5a1e49",
       "version_major": 2,
       "version_minor": 0
      },
      "text/plain": [
       "  0%|          | 0/500 [00:00<?, ?it/s]"
      ]
     },
     "metadata": {},
     "output_type": "display_data"
    },
    {
     "data": {
      "application/vnd.jupyter.widget-view+json": {
       "model_id": "672d6bf33cac4dfebfedd4bf06b143a7",
       "version_major": 2,
       "version_minor": 0
      },
      "text/plain": [
       "  0%|          | 0/500 [00:00<?, ?it/s]"
      ]
     },
     "metadata": {},
     "output_type": "display_data"
    },
    {
     "data": {
      "application/vnd.jupyter.widget-view+json": {
       "model_id": "2393c2c4c3ed4ec98ab1a00a06c35c07",
       "version_major": 2,
       "version_minor": 0
      },
      "text/plain": [
       "  0%|          | 0/500 [00:00<?, ?it/s]"
      ]
     },
     "metadata": {},
     "output_type": "display_data"
    },
    {
     "data": {
      "application/vnd.jupyter.widget-view+json": {
       "model_id": "924aa4b9550d4118b8a22f9b66c76820",
       "version_major": 2,
       "version_minor": 0
      },
      "text/plain": [
       "  0%|          | 0/500 [00:00<?, ?it/s]"
      ]
     },
     "metadata": {},
     "output_type": "display_data"
    },
    {
     "data": {
      "application/vnd.jupyter.widget-view+json": {
       "model_id": "707d8be47ba64c52a85a7ccbc9847eba",
       "version_major": 2,
       "version_minor": 0
      },
      "text/plain": [
       "  0%|          | 0/500 [00:00<?, ?it/s]"
      ]
     },
     "metadata": {},
     "output_type": "display_data"
    },
    {
     "data": {
      "text/plain": [
       "(tensor([[ 1.0000],\n",
       "         [ 2.0000],\n",
       "         [-1.3382],\n",
       "         [ 4.9640],\n",
       "         [ 4.4489],\n",
       "         [ 4.1479],\n",
       "         [ 4.6024],\n",
       "         [ 4.5771],\n",
       "         [ 4.5775],\n",
       "         [ 4.5774],\n",
       "         [ 4.5769],\n",
       "         [ 4.5772]]),\n",
       " tensor([1.6054, 1.5029, 1.0143, 5.2386, 6.9096, 5.0543, 7.1405, 7.1427, 7.1428,\n",
       "         7.1428, 7.1427, 7.1427]))"
      ]
     },
     "execution_count": 4,
     "metadata": {},
     "output_type": "execute_result"
    }
   ],
   "source": [
    "visualize_improvement(\"ucb\", beta=2)"
   ]
  },
  {
   "cell_type": "code",
   "execution_count": 5,
   "id": "469abe75-5541-4c0a-be45-5270d8dab1fd",
   "metadata": {},
   "outputs": [
    {
     "data": {
      "application/vnd.jupyter.widget-view+json": {
       "model_id": "0d6968ff05b148da9e63815c9b7afee0",
       "version_major": 2,
       "version_minor": 0
      },
      "text/plain": [
       "interactive(children=(Play(value=0, description='Press play', interval=500, max=9), IntSlider(value=0, descrip…"
      ]
     },
     "metadata": {},
     "output_type": "display_data"
    }
   ],
   "source": [
    "play = widgets.Play(\n",
    "    value=0,\n",
    "    min=0,\n",
    "    max=9,\n",
    "    step=1,\n",
    "    interval=500,\n",
    "    description=\"Press play\",\n",
    "    disabled=False,\n",
    ")\n",
    "slider = widgets.IntSlider(min=0, max=9)\n",
    "widgets.jslink((play, \"value\"), (slider, \"value\"))\n",
    "widgets.HBox([play, slider])\n",
    "\n",
    "\n",
    "@interact(play=play, slider=slider)\n",
    "def f(play, slider):\n",
    "    clear_output(wait=True)\n",
    "    display(Image(f\"tmp/ucb_{play}.png\"))"
   ]
  },
  {
   "cell_type": "markdown",
   "id": "e9082c64-c2d2-4609-ba4c-ea654879319a",
   "metadata": {},
   "source": [
    "## Smart Sampling with Thompson policy sampling"
   ]
  },
  {
   "cell_type": "code",
   "execution_count": 6,
   "id": "e7040201-007a-4112-8a20-8f9a2438018c",
   "metadata": {},
   "outputs": [
    {
     "data": {
      "application/vnd.jupyter.widget-view+json": {
       "model_id": "27c5a78bca86456786b342a72ec24826",
       "version_major": 2,
       "version_minor": 0
      },
      "text/plain": [
       "  0%|          | 0/500 [00:00<?, ?it/s]"
      ]
     },
     "metadata": {},
     "output_type": "display_data"
    },
    {
     "name": "stderr",
     "output_type": "stream",
     "text": [
      "/Users/alextanhongpin/Library/Caches/pypoetry/virtualenvs/python-bayesian-optimization-in-action-aU6qUxK9-py3.12/lib/python3.12/site-packages/linear_operator/utils/cholesky.py:40: NumericalWarning: A not p.d., added jitter of 1.0e-06 to the diagonal\n",
      "  warnings.warn(\n"
     ]
    },
    {
     "data": {
      "application/vnd.jupyter.widget-view+json": {
       "model_id": "8ed1f5870b814a8188aea7d57e791bdb",
       "version_major": 2,
       "version_minor": 0
      },
      "text/plain": [
       "  0%|          | 0/500 [00:00<?, ?it/s]"
      ]
     },
     "metadata": {},
     "output_type": "display_data"
    },
    {
     "name": "stderr",
     "output_type": "stream",
     "text": [
      "/Users/alextanhongpin/Library/Caches/pypoetry/virtualenvs/python-bayesian-optimization-in-action-aU6qUxK9-py3.12/lib/python3.12/site-packages/linear_operator/utils/cholesky.py:40: NumericalWarning: A not p.d., added jitter of 1.0e-05 to the diagonal\n",
      "  warnings.warn(\n",
      "/Users/alextanhongpin/Library/Caches/pypoetry/virtualenvs/python-bayesian-optimization-in-action-aU6qUxK9-py3.12/lib/python3.12/site-packages/linear_operator/utils/cholesky.py:40: NumericalWarning: A not p.d., added jitter of 1.0e-04 to the diagonal\n",
      "  warnings.warn(\n"
     ]
    },
    {
     "data": {
      "application/vnd.jupyter.widget-view+json": {
       "model_id": "69b7954fa1174d888b30bb0f4cc963b4",
       "version_major": 2,
       "version_minor": 0
      },
      "text/plain": [
       "  0%|          | 0/500 [00:00<?, ?it/s]"
      ]
     },
     "metadata": {},
     "output_type": "display_data"
    },
    {
     "data": {
      "application/vnd.jupyter.widget-view+json": {
       "model_id": "d290721a4e6c4b74856ae4a732b4d365",
       "version_major": 2,
       "version_minor": 0
      },
      "text/plain": [
       "  0%|          | 0/500 [00:00<?, ?it/s]"
      ]
     },
     "metadata": {},
     "output_type": "display_data"
    },
    {
     "name": "stderr",
     "output_type": "stream",
     "text": [
      "/Users/alextanhongpin/Library/Caches/pypoetry/virtualenvs/python-bayesian-optimization-in-action-aU6qUxK9-py3.12/lib/python3.12/site-packages/linear_operator/utils/cholesky.py:40: NumericalWarning: A not p.d., added jitter of 1.0e-03 to the diagonal\n",
      "  warnings.warn(\n"
     ]
    },
    {
     "data": {
      "application/vnd.jupyter.widget-view+json": {
       "model_id": "2530e50fa41c449a906a34e298d2dd52",
       "version_major": 2,
       "version_minor": 0
      },
      "text/plain": [
       "  0%|          | 0/500 [00:00<?, ?it/s]"
      ]
     },
     "metadata": {},
     "output_type": "display_data"
    },
    {
     "data": {
      "application/vnd.jupyter.widget-view+json": {
       "model_id": "56b6a4bc75814dbd8d9ca3e41d058056",
       "version_major": 2,
       "version_minor": 0
      },
      "text/plain": [
       "  0%|          | 0/500 [00:00<?, ?it/s]"
      ]
     },
     "metadata": {},
     "output_type": "display_data"
    },
    {
     "data": {
      "application/vnd.jupyter.widget-view+json": {
       "model_id": "a959dd1eea57402489b733c176335595",
       "version_major": 2,
       "version_minor": 0
      },
      "text/plain": [
       "  0%|          | 0/500 [00:00<?, ?it/s]"
      ]
     },
     "metadata": {},
     "output_type": "display_data"
    },
    {
     "data": {
      "application/vnd.jupyter.widget-view+json": {
       "model_id": "f11d7512534443bc939457f8c900e214",
       "version_major": 2,
       "version_minor": 0
      },
      "text/plain": [
       "  0%|          | 0/500 [00:00<?, ?it/s]"
      ]
     },
     "metadata": {},
     "output_type": "display_data"
    },
    {
     "data": {
      "application/vnd.jupyter.widget-view+json": {
       "model_id": "ad97223e908949d481473eb0b16f2d5b",
       "version_major": 2,
       "version_minor": 0
      },
      "text/plain": [
       "  0%|          | 0/500 [00:00<?, ?it/s]"
      ]
     },
     "metadata": {},
     "output_type": "display_data"
    },
    {
     "data": {
      "application/vnd.jupyter.widget-view+json": {
       "model_id": "05ff3812e947490196beafa3b0907319",
       "version_major": 2,
       "version_minor": 0
      },
      "text/plain": [
       "  0%|          | 0/500 [00:00<?, ?it/s]"
      ]
     },
     "metadata": {},
     "output_type": "display_data"
    }
   ],
   "source": [
    "import botorch\n",
    "import gpytorch\n",
    "import matplotlib.pyplot as plt\n",
    "import torch\n",
    "\n",
    "from bo.objectives import forrester_1d\n",
    "from bo.plots import visualize_gp_belief_and_policy\n",
    "from bo.train import fit_gp_model\n",
    "from bo.models import BotorchGPModel\n",
    "\n",
    "bound = 5\n",
    "\n",
    "\n",
    "xs = torch.linspace(-bound, bound, bound * 100 + 1).unsqueeze(1)\n",
    "ys = forrester_1d(xs)\n",
    "\n",
    "train_x = torch.tensor([[1.0], [2.0]])\n",
    "train_y = forrester_1d(train_x)\n",
    "\n",
    "num_candidates = 1000\n",
    "num_queries = 10\n",
    "\n",
    "\n",
    "torch.manual_seed(1)\n",
    "\n",
    "for i in range(num_queries):\n",
    "    # print(\"iteration\", i)\n",
    "    # print(\"incumbent\", train_x[train_y.argmax()], train_y.max())\n",
    "\n",
    "    sobol = torch.quasirandom.SobolEngine(1, scramble=True)\n",
    "\n",
    "    candidate_x = sobol.draw(num_candidates)\n",
    "    candidate_x = 10 * candidate_x - 5\n",
    "\n",
    "    noise = 1e-4\n",
    "\n",
    "    likelihood = gpytorch.likelihoods.GaussianLikelihood()\n",
    "    model = BotorchGPModel(train_x, train_y, likelihood)\n",
    "    model.likelihood.noise = noise\n",
    "\n",
    "    fit_gp_model(model, likelihood, train_x, train_y)\n",
    "\n",
    "    ts = botorch.generation.MaxPosteriorSampling(model, replacement=False)\n",
    "    next_x = ts(candidate_x, num_samples=1)\n",
    "\n",
    "    fig = visualize_gp_belief_and_policy(\n",
    "        model, likelihood, xs, ys, train_x, train_y, next_x=next_x\n",
    "    )\n",
    "    fig.suptitle(\n",
    "        f\"TS acquisition function (step={i+1}, x={train_x[train_y.argmax()].item():.2f}, y={train_y.max():.2f})\",\n",
    "        fontsize=20,\n",
    "    )\n",
    "\n",
    "    image_path = f\"tmp/ts_{i}.png\"\n",
    "    plt.savefig(image_path, bbox_inches=\"tight\")\n",
    "    plt.close(fig)\n",
    "\n",
    "    next_y = forrester_1d(next_x)\n",
    "\n",
    "    train_x = torch.cat([train_x, next_x])\n",
    "    train_y = torch.cat([train_y, next_y])"
   ]
  },
  {
   "cell_type": "code",
   "execution_count": 7,
   "id": "6fc16f4f-0326-47c1-91b8-7b6b02934790",
   "metadata": {},
   "outputs": [
    {
     "data": {
      "application/vnd.jupyter.widget-view+json": {
       "model_id": "42f46ad6142b4f798bbdde748d4c5645",
       "version_major": 2,
       "version_minor": 0
      },
      "text/plain": [
       "interactive(children=(Play(value=0, description='Press play', interval=500, max=9), IntSlider(value=0, descrip…"
      ]
     },
     "metadata": {},
     "output_type": "display_data"
    }
   ],
   "source": [
    "play = widgets.Play(\n",
    "    value=0,\n",
    "    min=0,\n",
    "    max=9,\n",
    "    step=1,\n",
    "    interval=500,\n",
    "    description=\"Press play\",\n",
    "    disabled=False,\n",
    ")\n",
    "slider = widgets.IntSlider(min=0, max=9)\n",
    "widgets.jslink((play, \"value\"), (slider, \"value\"))\n",
    "widgets.HBox([play, slider])\n",
    "\n",
    "\n",
    "@interact(play=play, slider=slider)\n",
    "def f(play, slider):\n",
    "    clear_output(wait=True)\n",
    "    display(Image(f\"tmp/ts_{play}.png\"))"
   ]
  }
 ],
 "metadata": {
  "kernelspec": {
   "display_name": "Python 3 (ipykernel)",
   "language": "python",
   "name": "python3"
  },
  "language_info": {
   "codemirror_mode": {
    "name": "ipython",
    "version": 3
   },
   "file_extension": ".py",
   "mimetype": "text/x-python",
   "name": "python",
   "nbconvert_exporter": "python",
   "pygments_lexer": "ipython3",
   "version": "3.12.9"
  }
 },
 "nbformat": 4,
 "nbformat_minor": 5
}
