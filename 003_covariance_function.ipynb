{
 "cells": [
  {
   "cell_type": "markdown",
   "id": "c52980b9-5d85-4d8a-93f0-7cbf54b87f57",
   "metadata": {},
   "source": [
    "# Defining variability and smoothness with the covariance function"
   ]
  },
  {
   "cell_type": "code",
   "execution_count": 1,
   "id": "eb3cd8fa-6b1f-40e4-88f0-3713e7457fa0",
   "metadata": {},
   "outputs": [],
   "source": [
    "import gpytorch\n",
    "import matplotlib.pyplot as plt\n",
    "import numpy as np\n",
    "import torch\n",
    "from tqdm.notebook import tqdm"
   ]
  },
  {
   "cell_type": "code",
   "execution_count": 2,
   "id": "eed3da2a-40be-4b00-a313-f5cdc6885ec1",
   "metadata": {},
   "outputs": [],
   "source": [
    "# %load bo\n",
    "import matplotlib.pyplot as plt\n",
    "import torch\n",
    "\n",
    "# Customize plot.\n",
    "plt.style.use(\"fivethirtyeight\")\n",
    "plt.rc(\"figure\", figsize=(8, 6))\n",
    "\n",
    "\n",
    "def visualize_gp_belief(model, likelihood, num_samples=5):\n",
    "    with torch.no_grad():\n",
    "        predictive_distribution = likelihood(model(xs))\n",
    "        predictive_mean = predictive_distribution.mean\n",
    "        predictive_upper, predictive_lower = predictive_distribution.confidence_region()\n",
    "\n",
    "    plt.figure(figsize=(8, 6))\n",
    "\n",
    "    plt.plot(xs, ys, label=\"objective\", c=\"r\")\n",
    "    plt.scatter(train_x, train_y, marker=\"x\", c=\"k\", label=\"observation\")\n",
    "\n",
    "    plt.plot(xs, predictive_mean, label=\"mean\")\n",
    "    plt.fill_between(\n",
    "        xs.flatten(), predictive_upper, predictive_lower, alpha=0.3, label=\"95% CI\"\n",
    "    )\n",
    "\n",
    "    torch.manual_seed(0)\n",
    "    for i in range(num_samples):\n",
    "        plt.plot(xs, predictive_distribution.sample(), alpha=0.5, linewidth=2)\n",
    "\n",
    "    plt.legend(fontsize=15)\n",
    "    plt.show()\n",
    "\n",
    "\n",
    "def forrester_1d(x):\n",
    "    # a modification of https://www.sfu.ca/~ssurjano/forretal08.html\n",
    "    y = -((x + 1) ** 2) * torch.sin(2 * x + 2) / 5 + 1\n",
    "    return y.squeeze(-1)"
   ]
  },
  {
   "cell_type": "code",
   "execution_count": 3,
   "id": "79c25fe8-ca31-41bc-a848-dbba27ed4726",
   "metadata": {},
   "outputs": [],
   "source": [
    "class ScaleGPModel(gpytorch.models.ExactGP):\n",
    "    def __init__(self, train_x, train_y, likelihood):\n",
    "        super().__init__(train_x, train_y, likelihood)\n",
    "        self.mean_module = gpytorch.means.ZeroMean()\n",
    "        self.covar_module = gpytorch.kernels.ScaleKernel(gpytorch.kernels.RBFKernel())\n",
    "\n",
    "    def forward(self, x):\n",
    "        mean_x = self.mean_module(x)\n",
    "        covar_x = self.covar_module(x)\n",
    "        return gpytorch.distributions.MultivariateNormal(mean_x, covar_x)"
   ]
  },
  {
   "cell_type": "code",
   "execution_count": 4,
   "id": "3741d3d2-1181-43e8-8bdb-ab8c76b1e53b",
   "metadata": {},
   "outputs": [],
   "source": [
    "xs = torch.linspace(-3, 3, 101).unsqueeze(1)\n",
    "ys = forrester_1d(xs)\n",
    "\n",
    "torch.manual_seed(0)\n",
    "train_x = torch.rand(size=(3, 1)) * 6 - 3\n",
    "train_y = forrester_1d(train_x)"
   ]
  },
  {
   "cell_type": "code",
   "execution_count": 5,
   "id": "e22a27be-6e11-47c4-a85e-97652778a222",
   "metadata": {},
   "outputs": [
    {
     "data": {
      "application/vnd.jupyter.widget-view+json": {
       "model_id": "97492b370a74487ea21d61edc4b188d0",
       "version_major": 2,
       "version_minor": 0
      },
      "text/plain": [
       "interactive(children=(Dropdown(description='lengthscale', index=1, options=(0.3, 1, 3), value=1), Dropdown(des…"
      ]
     },
     "metadata": {},
     "output_type": "display_data"
    }
   ],
   "source": [
    "import ipywidgets as widgets\n",
    "from ipywidgets import interact\n",
    "\n",
    "\n",
    "@interact(\n",
    "    lengthscale=widgets.Dropdown(options=[0.3, 1, 3], value=1),\n",
    "    outputscale=widgets.Dropdown(options=[0.3, 1, 3], value=3),\n",
    ")\n",
    "def f(lengthscale, outputscale):\n",
    "    noise = 1e-4\n",
    "    likelihood = gpytorch.likelihoods.GaussianLikelihood()\n",
    "    model = ScaleGPModel(train_x, train_y, likelihood)\n",
    "    model.covar_module.base_kernel.lengthscale = lengthscale\n",
    "    model.covar_module.outputscale = outputscale\n",
    "    model.likelihood.noise = noise\n",
    "    model.eval()\n",
    "    likelihood.eval()\n",
    "    visualize_gp_belief(model, likelihood)"
   ]
  }
 ],
 "metadata": {
  "kernelspec": {
   "display_name": "Python 3 (ipykernel)",
   "language": "python",
   "name": "python3"
  },
  "language_info": {
   "codemirror_mode": {
    "name": "ipython",
    "version": 3
   },
   "file_extension": ".py",
   "mimetype": "text/x-python",
   "name": "python",
   "nbconvert_exporter": "python",
   "pygments_lexer": "ipython3",
   "version": "3.12.9"
  }
 },
 "nbformat": 4,
 "nbformat_minor": 5
}
