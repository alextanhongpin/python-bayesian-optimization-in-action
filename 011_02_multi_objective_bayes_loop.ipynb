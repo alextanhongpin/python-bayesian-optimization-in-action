{
 "cells": [
  {
   "cell_type": "code",
   "execution_count": 1,
   "id": "a136dff5-b264-4c0e-8bc2-7032210cf3be",
   "metadata": {},
   "outputs": [],
   "source": [
    "import warnings\n",
    "\n",
    "import botorch\n",
    "import gpytorch\n",
    "import matplotlib.pyplot as plt\n",
    "import numpy as np\n",
    "import torch\n",
    "from matplotlib.figure import figaspect\n",
    "from tqdm.notebook import tqdm\n",
    "\n",
    "torch.manual_seed(0)\n",
    "\n",
    "plt.style.use(\"bmh\")\n",
    "plt.rc(\"figure\", figsize=figaspect(3 / 4))"
   ]
  },
  {
   "cell_type": "code",
   "execution_count": 2,
   "id": "5a08da4c-3e49-4ce7-b898-89468f9cf377",
   "metadata": {},
   "outputs": [],
   "source": [
    "from botorch.acquisition.analytic import LogExpectedImprovement\n",
    "from botorch.acquisition.multi_objective.analytic import ExpectedHypervolumeImprovement\n",
    "from botorch.models.model_list_gp_regression import ModelListGP\n",
    "from botorch.optim.optimize import optimize_acqf\n",
    "from botorch.utils.multi_objective.box_decompositions.dominated import (\n",
    "    DominatedPartitioning,\n",
    ")\n",
    "from botorch.utils.multi_objective.box_decompositions.non_dominated import (\n",
    "    FastNondominatedPartitioning,\n",
    ")\n",
    "from botorch.utils.multi_objective.pareto import is_non_dominated"
   ]
  },
  {
   "cell_type": "code",
   "execution_count": 3,
   "id": "bd0d0670-c46d-4bb6-8157-b4f94568ec06",
   "metadata": {},
   "outputs": [
    {
     "data": {
      "text/plain": [
       "tensor([-2.0292, -0.4444])"
      ]
     },
     "execution_count": 3,
     "metadata": {},
     "output_type": "execute_result"
    }
   ],
   "source": [
    "def objective1(x):\n",
    "    # a modification of https://www.sfu.ca/~ssurjano/forretal08.html\n",
    "    y = -((x + 1) ** 2) * torch.sin(2 * x + 2) / 5 + 1 + x / 20\n",
    "    return y\n",
    "\n",
    "\n",
    "def objective2(x):\n",
    "    return (0.1 * objective1(x) + objective1(x - 4)) / 3 - x / 3 + 0.5\n",
    "\n",
    "\n",
    "def joint_objective(x):\n",
    "    y1 = objective1(x)\n",
    "    y2 = objective2(x)\n",
    "\n",
    "    return torch.vstack([y1.flatten(), y2.flatten()]).transpose(-1, -2)\n",
    "\n",
    "\n",
    "lb = -5\n",
    "ub = 5\n",
    "\n",
    "bounds = torch.tensor([[lb], [ub]], dtype=torch.float)\n",
    "\n",
    "xs = torch.linspace(lb, ub, 201)\n",
    "ys = joint_objective(xs)\n",
    "ref_point = torch.tensor([ys[:, 0].min(), ys[:, 1].min()])\n",
    "ref_point"
   ]
  },
  {
   "cell_type": "code",
   "execution_count": 4,
   "id": "7c5c770e-b192-4266-8fd6-21ffc9289a9e",
   "metadata": {},
   "outputs": [],
   "source": [
    "class GPModel(gpytorch.models.ExactGP, botorch.models.gpytorch.GPyTorchModel):\n",
    "    _num_outputs = 1\n",
    "\n",
    "    def __init__(self, train_x, train_y, likelihood):\n",
    "        super().__init__(train_x, train_y, likelihood)\n",
    "        self.mean_module = gpytorch.means.ConstantMean()\n",
    "        self.covar_module = gpytorch.kernels.ScaleKernel(\n",
    "            gpytorch.kernels.MaternKernel(nu=2.5, ard_num_dims=1)\n",
    "        )\n",
    "\n",
    "    def forward(self, x):\n",
    "        mean_x = self.mean_module(x)\n",
    "        covar_x = self.covar_module(x)\n",
    "        return gpytorch.distributions.MultivariateNormal(mean_x, covar_x)\n",
    "\n",
    "\n",
    "def fit_gp_model(train_x, train_y, num_train_iters=500):\n",
    "    # Declare the GP.\n",
    "    noise = 1e-4\n",
    "\n",
    "    likelihood = gpytorch.likelihoods.GaussianLikelihood()\n",
    "    model = GPModel(train_x, train_y, likelihood)\n",
    "    model.likelihood.noise = noise\n",
    "\n",
    "    # Train the hyperparameter (the constant).\n",
    "    optimizer = torch.optim.Adam(model.parameters(), lr=0.01)\n",
    "    mll = gpytorch.mlls.ExactMarginalLogLikelihood(likelihood, model)\n",
    "\n",
    "    model.train()\n",
    "    likelihood.train()\n",
    "\n",
    "    for i in range(num_train_iters):\n",
    "        optimizer.zero_grad()\n",
    "\n",
    "        output = model(train_x)\n",
    "        loss = -mll(output, train_y)\n",
    "\n",
    "        loss.backward()\n",
    "        optimizer.step()\n",
    "\n",
    "    model.eval()\n",
    "    likelihood.eval()\n",
    "\n",
    "    return model, likelihood"
   ]
  },
  {
   "cell_type": "code",
   "execution_count": 5,
   "id": "0d868847-0fba-4e26-9642-2184684d6664",
   "metadata": {},
   "outputs": [],
   "source": [
    "num_queries = 20\n",
    "num_repeats = 10"
   ]
  },
  {
   "cell_type": "code",
   "execution_count": 10,
   "id": "3681066f-d2e6-477f-8785-d111e31cc296",
   "metadata": {},
   "outputs": [
    {
     "name": "stdout",
     "output_type": "stream",
     "text": [
      "trial 0\n"
     ]
    },
    {
     "data": {
      "application/vnd.jupyter.widget-view+json": {
       "model_id": "11afffee2caf4df1849007a0b9ded7d3",
       "version_major": 2,
       "version_minor": 0
      },
      "text/plain": [
       "  0%|          | 0/20 [00:00<?, ?it/s]"
      ]
     },
     "metadata": {},
     "output_type": "display_data"
    },
    {
     "name": "stdout",
     "output_type": "stream",
     "text": [
      "trial 1\n"
     ]
    },
    {
     "data": {
      "application/vnd.jupyter.widget-view+json": {
       "model_id": "326a4a5d97c6496abe6d0950a8ce0d35",
       "version_major": 2,
       "version_minor": 0
      },
      "text/plain": [
       "  0%|          | 0/20 [00:00<?, ?it/s]"
      ]
     },
     "metadata": {},
     "output_type": "display_data"
    },
    {
     "name": "stdout",
     "output_type": "stream",
     "text": [
      "trial 2\n"
     ]
    },
    {
     "data": {
      "application/vnd.jupyter.widget-view+json": {
       "model_id": "e84a95a367724d12856078423a039c53",
       "version_major": 2,
       "version_minor": 0
      },
      "text/plain": [
       "  0%|          | 0/20 [00:00<?, ?it/s]"
      ]
     },
     "metadata": {},
     "output_type": "display_data"
    },
    {
     "name": "stdout",
     "output_type": "stream",
     "text": [
      "trial 3\n"
     ]
    },
    {
     "data": {
      "application/vnd.jupyter.widget-view+json": {
       "model_id": "9194d05a4797473d9f09cd9a95fbb946",
       "version_major": 2,
       "version_minor": 0
      },
      "text/plain": [
       "  0%|          | 0/20 [00:00<?, ?it/s]"
      ]
     },
     "metadata": {},
     "output_type": "display_data"
    },
    {
     "name": "stdout",
     "output_type": "stream",
     "text": [
      "trial 4\n"
     ]
    },
    {
     "data": {
      "application/vnd.jupyter.widget-view+json": {
       "model_id": "817bd878ea784f5a99de055df626272d",
       "version_major": 2,
       "version_minor": 0
      },
      "text/plain": [
       "  0%|          | 0/20 [00:00<?, ?it/s]"
      ]
     },
     "metadata": {},
     "output_type": "display_data"
    },
    {
     "name": "stdout",
     "output_type": "stream",
     "text": [
      "trial 5\n"
     ]
    },
    {
     "data": {
      "application/vnd.jupyter.widget-view+json": {
       "model_id": "8b014144078242799202cbe7ad016ceb",
       "version_major": 2,
       "version_minor": 0
      },
      "text/plain": [
       "  0%|          | 0/20 [00:00<?, ?it/s]"
      ]
     },
     "metadata": {},
     "output_type": "display_data"
    },
    {
     "name": "stdout",
     "output_type": "stream",
     "text": [
      "trial 6\n"
     ]
    },
    {
     "data": {
      "application/vnd.jupyter.widget-view+json": {
       "model_id": "da1a9762f9bd4e1daca4bac2a5727bae",
       "version_major": 2,
       "version_minor": 0
      },
      "text/plain": [
       "  0%|          | 0/20 [00:00<?, ?it/s]"
      ]
     },
     "metadata": {},
     "output_type": "display_data"
    },
    {
     "name": "stdout",
     "output_type": "stream",
     "text": [
      "trial 7\n"
     ]
    },
    {
     "data": {
      "application/vnd.jupyter.widget-view+json": {
       "model_id": "e586420a07324c3aa7e24d1ddc5bb57e",
       "version_major": 2,
       "version_minor": 0
      },
      "text/plain": [
       "  0%|          | 0/20 [00:00<?, ?it/s]"
      ]
     },
     "metadata": {},
     "output_type": "display_data"
    },
    {
     "name": "stdout",
     "output_type": "stream",
     "text": [
      "trial 8\n"
     ]
    },
    {
     "data": {
      "application/vnd.jupyter.widget-view+json": {
       "model_id": "f802931f8f494bf18329a2e5e87d74a6",
       "version_major": 2,
       "version_minor": 0
      },
      "text/plain": [
       "  0%|          | 0/20 [00:00<?, ?it/s]"
      ]
     },
     "metadata": {},
     "output_type": "display_data"
    },
    {
     "name": "stdout",
     "output_type": "stream",
     "text": [
      "trial 9\n"
     ]
    },
    {
     "data": {
      "application/vnd.jupyter.widget-view+json": {
       "model_id": "8bd49374966848cf989e1983a3d28659",
       "version_major": 2,
       "version_minor": 0
      },
      "text/plain": [
       "  0%|          | 0/20 [00:00<?, ?it/s]"
      ]
     },
     "metadata": {},
     "output_type": "display_data"
    }
   ],
   "source": [
    "strategy = \"ehvi\"  # \"alt_ei\", \"ehvi\"\n",
    "strategy = strategy.upper()\n",
    "\n",
    "hypervolumes = torch.zeros((num_repeats, num_queries))\n",
    "\n",
    "for trial in range(num_repeats):\n",
    "    print(\"trial\", trial)\n",
    "\n",
    "    torch.manual_seed(trial)\n",
    "    train_x = bounds[0] + (bounds[1] - bounds[0]) * torch.rand(1, 1)\n",
    "    train_y = joint_objective(train_x)\n",
    "\n",
    "    for i in tqdm(range(num_queries)):\n",
    "        dominated_part = DominatedPartitioning(ref_point, train_y)\n",
    "        hypervolumes[trial, i] = dominated_part.compute_hypervolume().item()\n",
    "\n",
    "        model1, likelihood = fit_gp_model(train_x, train_y[:, 0])\n",
    "        model2, likelihood = fit_gp_model(train_x, train_y[:, 1])\n",
    "\n",
    "        if strategy == \"ALT_EI\":\n",
    "            if i % 2 == 0:\n",
    "                model = model1\n",
    "                best_f = train_y[:, 0].max()\n",
    "            else:\n",
    "                model = model2\n",
    "                best_f = train_y[:, 1].max()\n",
    "\n",
    "            policy = LogExpectedImprovement(model=model, best_f=best_f)\n",
    "\n",
    "        if strategy == \"EHVI\":\n",
    "            with warnings.catch_warnings():\n",
    "                warnings.simplefilter(\"ignore\")\n",
    "\n",
    "                policy = ExpectedHypervolumeImprovement(\n",
    "                    model=ModelListGP(model1, model2),\n",
    "                    ref_point=ref_point,\n",
    "                    partitioning=FastNondominatedPartitioning(ref_point, train_y),\n",
    "                )\n",
    "\n",
    "        with warnings.catch_warnings():\n",
    "            warnings.filterwarnings(\"ignore\", category=RuntimeWarning)\n",
    "            next_x, acq_val = optimize_acqf(\n",
    "                policy, bounds=bounds, q=1, num_restarts=20, raw_samples=50\n",
    "            )\n",
    "\n",
    "        next_y = joint_objective(next_x)\n",
    "\n",
    "        train_x = torch.cat([train_x, next_x])\n",
    "        train_y = torch.cat([train_y, next_y])"
   ]
  },
  {
   "cell_type": "code",
   "execution_count": 11,
   "id": "d943127e-8554-4106-b382-572d423a2e49",
   "metadata": {},
   "outputs": [],
   "source": [
    "torch.save(hypervolumes, f\"./forrester/{strategy}.pth\")"
   ]
  },
  {
   "cell_type": "code",
   "execution_count": 12,
   "id": "4667473c-d004-4382-a04c-3fcd05fee911",
   "metadata": {},
   "outputs": [
    {
     "data": {
      "image/png": "[encoded data removed]",
      "text/plain": [
       "<Figure size 640x480 with 1 Axes>"
      ]
     },
     "metadata": {},
     "output_type": "display_data"
    }
   ],
   "source": [
    "def show_agg_progress(path, name, linestyle=\"solid\"):\n",
    "    def ci(y):\n",
    "        return 2 * y.std(axis=0) / np.sqrt(num_repeats)\n",
    "\n",
    "    incumbents = torch.load(path)\n",
    "    avg_incumbent = incumbents.mean(axis=0)\n",
    "    ci_incumbent = ci(incumbents)\n",
    "\n",
    "    plt.plot(avg_incumbent, linestyle=linestyle, label=name)\n",
    "    plt.fill_between(\n",
    "        np.arange(num_queries),\n",
    "        avg_incumbent + ci_incumbent,\n",
    "        avg_incumbent - ci_incumbent,\n",
    "        alpha=0.1,\n",
    "    )\n",
    "\n",
    "\n",
    "show_agg_progress(\n",
    "    \"./forrester/EHVI.pth\",\n",
    "    \"EHVI\",\n",
    ")\n",
    "show_agg_progress(\"./forrester/ALT_EI.pth\", \"alt. EI\", linestyle=\"--\")\n",
    "\n",
    "plt.xlabel(\"# queries\", fontsize=15)\n",
    "plt.ylabel(\"hyper-volume\", fontsize=15)\n",
    "\n",
    "plt.legend(fontsize=15);"
   ]
  },
  {
   "cell_type": "code",
   "execution_count": 13,
   "id": "ba411327-28b9-4237-ba41-c0860d9cf630",
   "metadata": {},
   "outputs": [],
   "source": [
    "torch.save(train_x, \"./forrester/train_x.pth\")\n",
    "torch.save(train_y, \"./forrester/train_y.pth\")"
   ]
  }
 ],
 "metadata": {
  "kernelspec": {
   "display_name": "Python 3 (ipykernel)",
   "language": "python",
   "name": "python3"
  },
  "language_info": {
   "codemirror_mode": {
    "name": "ipython",
    "version": 3
   },
   "file_extension": ".py",
   "mimetype": "text/x-python",
   "name": "python",
   "nbconvert_exporter": "python",
   "pygments_lexer": "ipython3",
   "version": "3.12.9"
  }
 },
 "nbformat": 4,
 "nbformat_minor": 5
}
