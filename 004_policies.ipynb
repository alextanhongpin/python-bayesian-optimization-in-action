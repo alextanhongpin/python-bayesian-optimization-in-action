{
 "cells": [
  {
   "cell_type": "code",
   "execution_count": 1,
   "id": "aa41bf89-28e2-49c8-8ba9-f1a0c2c22968",
   "metadata": {},
   "outputs": [],
   "source": [
    "from IPython.display import Image, clear_output, display\n",
    "from ipywidgets import interact, widgets\n",
    "\n",
    "from bo.models import BotorchGPModel\n",
    "from bo.plots import visualize_improvement"
   ]
  },
  {
   "cell_type": "markdown",
   "id": "a5511cf0-8e32-4d27-b01f-6067109006f8",
   "metadata": {},
   "source": [
    "## Finding improvement in Bayesian Optimization"
   ]
  },
  {
   "cell_type": "code",
   "execution_count": 2,
   "id": "abf3f0c7-9e60-4585-81ce-ef33588a040f",
   "metadata": {
    "scrolled": true
   },
   "outputs": [
    {
     "data": {
      "application/vnd.jupyter.widget-view+json": {
       "model_id": "8710962ac95d4ecbb632992c3f880935",
       "version_major": 2,
       "version_minor": 0
      },
      "text/plain": [
       "  0%|          | 0/500 [00:00<?, ?it/s]"
      ]
     },
     "metadata": {},
     "output_type": "display_data"
    },
    {
     "data": {
      "application/vnd.jupyter.widget-view+json": {
       "model_id": "3a3d411dbf564dcc834c5300048cca22",
       "version_major": 2,
       "version_minor": 0
      },
      "text/plain": [
       "  0%|          | 0/500 [00:00<?, ?it/s]"
      ]
     },
     "metadata": {},
     "output_type": "display_data"
    },
    {
     "name": "stderr",
     "output_type": "stream",
     "text": [
      "/Users/alextanhongpin/Library/Caches/pypoetry/virtualenvs/python-bayesian-optimization-in-action-aU6qUxK9-py3.12/lib/python3.12/site-packages/botorch/optim/optimize.py:652: RuntimeWarning: Optimization failed in `gen_candidates_scipy` with the following warning(s):\n",
      "[OptimizationWarning('Optimization failed within `scipy.optimize.minimize` with status 2 and message ABNORMAL: .')]\n",
      "Trying again with a new set of initial conditions.\n",
      "  return _optimize_acqf_batch(opt_inputs=opt_inputs)\n"
     ]
    },
    {
     "data": {
      "application/vnd.jupyter.widget-view+json": {
       "model_id": "453b199b21b74608a7f963dc6e92bcf0",
       "version_major": 2,
       "version_minor": 0
      },
      "text/plain": [
       "  0%|          | 0/500 [00:00<?, ?it/s]"
      ]
     },
     "metadata": {},
     "output_type": "display_data"
    },
    {
     "data": {
      "application/vnd.jupyter.widget-view+json": {
       "model_id": "8e7e5e6a2ccc41998004fcd99dd2816e",
       "version_major": 2,
       "version_minor": 0
      },
      "text/plain": [
       "  0%|          | 0/500 [00:00<?, ?it/s]"
      ]
     },
     "metadata": {},
     "output_type": "display_data"
    },
    {
     "data": {
      "application/vnd.jupyter.widget-view+json": {
       "model_id": "a82d136f821b414d8a0cf27ee365ea9e",
       "version_major": 2,
       "version_minor": 0
      },
      "text/plain": [
       "  0%|          | 0/500 [00:00<?, ?it/s]"
      ]
     },
     "metadata": {},
     "output_type": "display_data"
    },
    {
     "data": {
      "application/vnd.jupyter.widget-view+json": {
       "model_id": "4c9526344ff74b4b863428d2cb6c2367",
       "version_major": 2,
       "version_minor": 0
      },
      "text/plain": [
       "  0%|          | 0/500 [00:00<?, ?it/s]"
      ]
     },
     "metadata": {},
     "output_type": "display_data"
    },
    {
     "data": {
      "application/vnd.jupyter.widget-view+json": {
       "model_id": "8e7219aec9a9473f96b31d26d6909737",
       "version_major": 2,
       "version_minor": 0
      },
      "text/plain": [
       "  0%|          | 0/500 [00:00<?, ?it/s]"
      ]
     },
     "metadata": {},
     "output_type": "display_data"
    },
    {
     "data": {
      "application/vnd.jupyter.widget-view+json": {
       "model_id": "4fa3a81d1fb1418aa4efe83283e7c2fa",
       "version_major": 2,
       "version_minor": 0
      },
      "text/plain": [
       "  0%|          | 0/500 [00:00<?, ?it/s]"
      ]
     },
     "metadata": {},
     "output_type": "display_data"
    },
    {
     "data": {
      "application/vnd.jupyter.widget-view+json": {
       "model_id": "b28d1bc3990440db941ec282c0e0fd21",
       "version_major": 2,
       "version_minor": 0
      },
      "text/plain": [
       "  0%|          | 0/500 [00:00<?, ?it/s]"
      ]
     },
     "metadata": {},
     "output_type": "display_data"
    },
    {
     "data": {
      "application/vnd.jupyter.widget-view+json": {
       "model_id": "336c5094f33d4029aa46f37270d7a407",
       "version_major": 2,
       "version_minor": 0
      },
      "text/plain": [
       "  0%|          | 0/500 [00:00<?, ?it/s]"
      ]
     },
     "metadata": {},
     "output_type": "display_data"
    },
    {
     "data": {
      "text/plain": [
       "(tensor([[1.0000],\n",
       "         [2.0000],\n",
       "         [0.5985],\n",
       "         [1.0036],\n",
       "         [1.0239],\n",
       "         [1.0790],\n",
       "         [1.1453],\n",
       "         [1.2280],\n",
       "         [1.3234],\n",
       "         [1.4198],\n",
       "         [1.4920],\n",
       "         [1.5242]]),\n",
       " tensor([1.6054, 1.5029, 1.0283, 1.6114, 1.6448, 1.7350, 1.8399, 1.9603, 2.0773,\n",
       "         2.1617, 2.1965, 2.2031]))"
      ]
     },
     "execution_count": 2,
     "metadata": {},
     "output_type": "execute_result"
    }
   ],
   "source": [
    "visualize_improvement(\"poi\", GPModel=BotorchGPModel)"
   ]
  },
  {
   "cell_type": "code",
   "execution_count": 3,
   "id": "be3acda5-d5be-4f4d-8b6b-48efa6f68847",
   "metadata": {},
   "outputs": [
    {
     "data": {
      "application/vnd.jupyter.widget-view+json": {
       "model_id": "d31d7a8c07d744c98f244d44e3b637ce",
       "version_major": 2,
       "version_minor": 0
      },
      "text/plain": [
       "interactive(children=(Play(value=0, description='Press play', interval=500, max=9), IntSlider(value=0, descrip…"
      ]
     },
     "metadata": {},
     "output_type": "display_data"
    }
   ],
   "source": [
    "play = widgets.Play(\n",
    "    value=0,\n",
    "    min=0,\n",
    "    max=9,\n",
    "    step=1,\n",
    "    interval=500,\n",
    "    description=\"Press play\",\n",
    "    disabled=False,\n",
    ")\n",
    "slider = widgets.IntSlider(min=0, max=9)\n",
    "widgets.jslink((play, \"value\"), (slider, \"value\"))\n",
    "widgets.HBox([play, slider])\n",
    "\n",
    "\n",
    "@interact(play=play, slider=slider)\n",
    "def f(play, slider):\n",
    "    clear_output(wait=True)\n",
    "    display(Image(f\"tmp/poi_{play}.png\"))"
   ]
  },
  {
   "cell_type": "markdown",
   "id": "fe2d709a-1ac3-406e-9999-bdc76e523178",
   "metadata": {},
   "source": [
    "## Optimizing the expected value of improvement"
   ]
  },
  {
   "cell_type": "code",
   "execution_count": 5,
   "id": "6af8b800-ec52-45d3-b696-c92b5f3924ac",
   "metadata": {},
   "outputs": [
    {
     "data": {
      "application/vnd.jupyter.widget-view+json": {
       "model_id": "7462cf1f3ca94bedac89b24eade1a1d4",
       "version_major": 2,
       "version_minor": 0
      },
      "text/plain": [
       "  0%|          | 0/500 [00:00<?, ?it/s]"
      ]
     },
     "metadata": {},
     "output_type": "display_data"
    },
    {
     "data": {
      "application/vnd.jupyter.widget-view+json": {
       "model_id": "0afc8e9b075144ed8dc1227f549bc9f3",
       "version_major": 2,
       "version_minor": 0
      },
      "text/plain": [
       "  0%|          | 0/500 [00:00<?, ?it/s]"
      ]
     },
     "metadata": {},
     "output_type": "display_data"
    },
    {
     "data": {
      "application/vnd.jupyter.widget-view+json": {
       "model_id": "c8099811aff04e9db627b6cf4ef8f15d",
       "version_major": 2,
       "version_minor": 0
      },
      "text/plain": [
       "  0%|          | 0/500 [00:00<?, ?it/s]"
      ]
     },
     "metadata": {},
     "output_type": "display_data"
    },
    {
     "data": {
      "application/vnd.jupyter.widget-view+json": {
       "model_id": "60d09658b48a4a47a5164fca7ff42fdd",
       "version_major": 2,
       "version_minor": 0
      },
      "text/plain": [
       "  0%|          | 0/500 [00:00<?, ?it/s]"
      ]
     },
     "metadata": {},
     "output_type": "display_data"
    },
    {
     "data": {
      "application/vnd.jupyter.widget-view+json": {
       "model_id": "b397c44d2e714fd280a20b5590c6114d",
       "version_major": 2,
       "version_minor": 0
      },
      "text/plain": [
       "  0%|          | 0/500 [00:00<?, ?it/s]"
      ]
     },
     "metadata": {},
     "output_type": "display_data"
    },
    {
     "data": {
      "application/vnd.jupyter.widget-view+json": {
       "model_id": "76c415dba38841b98caf4c640bb092ee",
       "version_major": 2,
       "version_minor": 0
      },
      "text/plain": [
       "  0%|          | 0/500 [00:00<?, ?it/s]"
      ]
     },
     "metadata": {},
     "output_type": "display_data"
    },
    {
     "data": {
      "application/vnd.jupyter.widget-view+json": {
       "model_id": "a56ecfab47304a6da78f605e9af2e4b5",
       "version_major": 2,
       "version_minor": 0
      },
      "text/plain": [
       "  0%|          | 0/500 [00:00<?, ?it/s]"
      ]
     },
     "metadata": {},
     "output_type": "display_data"
    },
    {
     "data": {
      "application/vnd.jupyter.widget-view+json": {
       "model_id": "652fb8dab98e40f4a877d1e05d6a8e30",
       "version_major": 2,
       "version_minor": 0
      },
      "text/plain": [
       "  0%|          | 0/500 [00:00<?, ?it/s]"
      ]
     },
     "metadata": {},
     "output_type": "display_data"
    },
    {
     "data": {
      "application/vnd.jupyter.widget-view+json": {
       "model_id": "f5936f94aa7a44f39c026b6399624eb5",
       "version_major": 2,
       "version_minor": 0
      },
      "text/plain": [
       "  0%|          | 0/500 [00:00<?, ?it/s]"
      ]
     },
     "metadata": {},
     "output_type": "display_data"
    },
    {
     "data": {
      "application/vnd.jupyter.widget-view+json": {
       "model_id": "5b34976a5a2a4c91a58ec9b3c4d019ce",
       "version_major": 2,
       "version_minor": 0
      },
      "text/plain": [
       "  0%|          | 0/500 [00:00<?, ?it/s]"
      ]
     },
     "metadata": {},
     "output_type": "display_data"
    },
    {
     "data": {
      "text/plain": [
       "(tensor([[ 1.0000],\n",
       "         [ 2.0000],\n",
       "         [-0.6874],\n",
       "         [ 1.3487],\n",
       "         [-2.7626],\n",
       "         [ 1.5062],\n",
       "         [ 5.0000],\n",
       "         [ 4.6726],\n",
       "         [ 4.5229],\n",
       "         [ 4.5885],\n",
       "         [ 3.5243],\n",
       "         [ 4.5878]]),\n",
       " tensor([ 1.6054,  1.5029,  0.9886,  2.1032,  0.7674,  2.2001,  4.8633,  7.0464,\n",
       "          7.0928,  7.1437, -0.5037,  7.1438]))"
      ]
     },
     "execution_count": 5,
     "metadata": {},
     "output_type": "execute_result"
    }
   ],
   "source": [
    "visualize_improvement(\"ei\", GPModel=BotorchGPModel)"
   ]
  },
  {
   "cell_type": "code",
   "execution_count": 6,
   "id": "d9a58901-792e-4e80-9232-be16cacdf0ea",
   "metadata": {},
   "outputs": [
    {
     "data": {
      "application/vnd.jupyter.widget-view+json": {
       "model_id": "960c1b3bce254226aaf63274214c37c5",
       "version_major": 2,
       "version_minor": 0
      },
      "text/plain": [
       "interactive(children=(Play(value=0, description='Press play', interval=500, max=9), IntSlider(value=0, descrip…"
      ]
     },
     "metadata": {},
     "output_type": "display_data"
    }
   ],
   "source": [
    "play = widgets.Play(\n",
    "    value=0,\n",
    "    min=0,\n",
    "    max=9,\n",
    "    step=1,\n",
    "    interval=500,\n",
    "    description=\"Press play\",\n",
    "    disabled=False,\n",
    ")\n",
    "slider = widgets.IntSlider(min=0, max=9)\n",
    "widgets.jslink((play, \"value\"), (slider, \"value\"))\n",
    "widgets.HBox([play, slider])\n",
    "\n",
    "\n",
    "@interact(play=play, slider=slider)\n",
    "def f(play, slider):\n",
    "    clear_output(wait=True)\n",
    "    display(Image(f\"tmp/ei_{play}.png\"))"
   ]
  }
 ],
 "metadata": {
  "kernelspec": {
   "display_name": "Python 3 (ipykernel)",
   "language": "python",
   "name": "python3"
  },
  "language_info": {
   "codemirror_mode": {
    "name": "ipython",
    "version": 3
   },
   "file_extension": ".py",
   "mimetype": "text/x-python",
   "name": "python",
   "nbconvert_exporter": "python",
   "pygments_lexer": "ipython3",
   "version": "3.12.9"
  }
 },
 "nbformat": 4,
 "nbformat_minor": 5
}
