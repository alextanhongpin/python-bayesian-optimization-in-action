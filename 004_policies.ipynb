{
 "cells": [
  {
   "cell_type": "code",
   "execution_count": 1,
   "id": "aa41bf89-28e2-49c8-8ba9-f1a0c2c22968",
   "metadata": {},
   "outputs": [],
   "source": [
    "from IPython.display import Image, clear_output, display\n",
    "from ipywidgets import interact, widgets\n",
    "\n",
    "from bo import visualize_improvement"
   ]
  },
  {
   "cell_type": "markdown",
   "id": "a5511cf0-8e32-4d27-b01f-6067109006f8",
   "metadata": {},
   "source": [
    "## Finding improvement in Bayesian Optimization"
   ]
  },
  {
   "cell_type": "code",
   "execution_count": 2,
   "id": "abf3f0c7-9e60-4585-81ce-ef33588a040f",
   "metadata": {
    "scrolled": true
   },
   "outputs": [
    {
     "data": {
      "application/vnd.jupyter.widget-view+json": {
       "model_id": "e6907b4bdb7c43ef83b48f53ae5e22b5",
       "version_major": 2,
       "version_minor": 0
      },
      "text/plain": [
       "  0%|          | 0/500 [00:00<?, ?it/s]"
      ]
     },
     "metadata": {},
     "output_type": "display_data"
    },
    {
     "data": {
      "application/vnd.jupyter.widget-view+json": {
       "model_id": "a367615b05ee4b42a4b72e2eae228a46",
       "version_major": 2,
       "version_minor": 0
      },
      "text/plain": [
       "  0%|          | 0/500 [00:00<?, ?it/s]"
      ]
     },
     "metadata": {},
     "output_type": "display_data"
    },
    {
     "data": {
      "application/vnd.jupyter.widget-view+json": {
       "model_id": "762f46711ec643ebae3ee5344985d032",
       "version_major": 2,
       "version_minor": 0
      },
      "text/plain": [
       "  0%|          | 0/500 [00:00<?, ?it/s]"
      ]
     },
     "metadata": {},
     "output_type": "display_data"
    },
    {
     "data": {
      "application/vnd.jupyter.widget-view+json": {
       "model_id": "1f0aebd4c1cb4988b47d1102aa68eb61",
       "version_major": 2,
       "version_minor": 0
      },
      "text/plain": [
       "  0%|          | 0/500 [00:00<?, ?it/s]"
      ]
     },
     "metadata": {},
     "output_type": "display_data"
    },
    {
     "data": {
      "application/vnd.jupyter.widget-view+json": {
       "model_id": "5706a31f05b549a19493d4387b2ff944",
       "version_major": 2,
       "version_minor": 0
      },
      "text/plain": [
       "  0%|          | 0/500 [00:00<?, ?it/s]"
      ]
     },
     "metadata": {},
     "output_type": "display_data"
    },
    {
     "data": {
      "application/vnd.jupyter.widget-view+json": {
       "model_id": "c5093cf8019548e9a41c2245cdbaf502",
       "version_major": 2,
       "version_minor": 0
      },
      "text/plain": [
       "  0%|          | 0/500 [00:00<?, ?it/s]"
      ]
     },
     "metadata": {},
     "output_type": "display_data"
    },
    {
     "data": {
      "application/vnd.jupyter.widget-view+json": {
       "model_id": "04add3ed5c3447d283c218988bf8cf2e",
       "version_major": 2,
       "version_minor": 0
      },
      "text/plain": [
       "  0%|          | 0/500 [00:00<?, ?it/s]"
      ]
     },
     "metadata": {},
     "output_type": "display_data"
    },
    {
     "data": {
      "application/vnd.jupyter.widget-view+json": {
       "model_id": "579f47ce0b5b4f42a57adace087e020c",
       "version_major": 2,
       "version_minor": 0
      },
      "text/plain": [
       "  0%|          | 0/500 [00:00<?, ?it/s]"
      ]
     },
     "metadata": {},
     "output_type": "display_data"
    },
    {
     "data": {
      "application/vnd.jupyter.widget-view+json": {
       "model_id": "580ac3a96a4b402fa1e45777c138a837",
       "version_major": 2,
       "version_minor": 0
      },
      "text/plain": [
       "  0%|          | 0/500 [00:00<?, ?it/s]"
      ]
     },
     "metadata": {},
     "output_type": "display_data"
    },
    {
     "data": {
      "application/vnd.jupyter.widget-view+json": {
       "model_id": "aa44ca7573ba437aaae9084f7617e28e",
       "version_major": 2,
       "version_minor": 0
      },
      "text/plain": [
       "  0%|          | 0/500 [00:00<?, ?it/s]"
      ]
     },
     "metadata": {},
     "output_type": "display_data"
    },
    {
     "data": {
      "text/plain": [
       "(tensor([[1.0000],\n",
       "         [2.0000],\n",
       "         [0.5984],\n",
       "         [1.0037],\n",
       "         [1.0240],\n",
       "         [1.0792],\n",
       "         [1.1457],\n",
       "         [1.2294],\n",
       "         [1.3247],\n",
       "         [1.4205],\n",
       "         [1.4910],\n",
       "         [1.5243]]),\n",
       " tensor([1.6054, 1.5029, 1.0282, 1.6115, 1.6450, 1.7353, 1.8404, 1.9623, 2.0787,\n",
       "         2.1621, 2.1962, 2.2031]))"
      ]
     },
     "execution_count": 2,
     "metadata": {},
     "output_type": "execute_result"
    }
   ],
   "source": [
    "visualize_improvement(\"poi\")"
   ]
  },
  {
   "cell_type": "code",
   "execution_count": 3,
   "id": "be3acda5-d5be-4f4d-8b6b-48efa6f68847",
   "metadata": {},
   "outputs": [
    {
     "data": {
      "application/vnd.jupyter.widget-view+json": {
       "model_id": "d10ac7740a0a4632b046397fbc3ab50f",
       "version_major": 2,
       "version_minor": 0
      },
      "text/plain": [
       "interactive(children=(Play(value=0, description='Press play', interval=500, max=9), IntSlider(value=0, descrip…"
      ]
     },
     "metadata": {},
     "output_type": "display_data"
    }
   ],
   "source": [
    "play = widgets.Play(\n",
    "    value=0,\n",
    "    min=0,\n",
    "    max=9,\n",
    "    step=1,\n",
    "    interval=500,\n",
    "    description=\"Press play\",\n",
    "    disabled=False,\n",
    ")\n",
    "slider = widgets.IntSlider(min=0, max=9)\n",
    "widgets.jslink((play, \"value\"), (slider, \"value\"))\n",
    "widgets.HBox([play, slider])\n",
    "\n",
    "\n",
    "@interact(play=play, slider=slider)\n",
    "def f(play, slider):\n",
    "    clear_output(wait=True)\n",
    "    display(Image(f\"tmp/poi_{play}.png\"))"
   ]
  },
  {
   "cell_type": "markdown",
   "id": "fe2d709a-1ac3-406e-9999-bdc76e523178",
   "metadata": {},
   "source": [
    "## Optimizing the expected value of improvement"
   ]
  },
  {
   "cell_type": "code",
   "execution_count": 4,
   "id": "6af8b800-ec52-45d3-b696-c92b5f3924ac",
   "metadata": {},
   "outputs": [
    {
     "data": {
      "application/vnd.jupyter.widget-view+json": {
       "model_id": "00a9fe05e394403187a704a273df56af",
       "version_major": 2,
       "version_minor": 0
      },
      "text/plain": [
       "  0%|          | 0/500 [00:00<?, ?it/s]"
      ]
     },
     "metadata": {},
     "output_type": "display_data"
    },
    {
     "name": "stderr",
     "output_type": "stream",
     "text": [
      "/Users/alextanhongpin/Library/Caches/pypoetry/virtualenvs/python-bayesian-optimization-in-action-aU6qUxK9-py3.12/lib/python3.12/site-packages/botorch/optim/optimize.py:652: RuntimeWarning: Optimization failed in `gen_candidates_scipy` with the following warning(s):\n",
      "[OptimizationWarning('Optimization failed within `scipy.optimize.minimize` with status 2 and message ABNORMAL: .')]\n",
      "Trying again with a new set of initial conditions.\n",
      "  return _optimize_acqf_batch(opt_inputs=opt_inputs)\n"
     ]
    },
    {
     "data": {
      "application/vnd.jupyter.widget-view+json": {
       "model_id": "ace53970244c4c8fa88a852639516293",
       "version_major": 2,
       "version_minor": 0
      },
      "text/plain": [
       "  0%|          | 0/500 [00:00<?, ?it/s]"
      ]
     },
     "metadata": {},
     "output_type": "display_data"
    },
    {
     "data": {
      "application/vnd.jupyter.widget-view+json": {
       "model_id": "ef5393f170b84db081f053a0cc6a5c52",
       "version_major": 2,
       "version_minor": 0
      },
      "text/plain": [
       "  0%|          | 0/500 [00:00<?, ?it/s]"
      ]
     },
     "metadata": {},
     "output_type": "display_data"
    },
    {
     "data": {
      "application/vnd.jupyter.widget-view+json": {
       "model_id": "70689dff5a5544809298751b0a69a619",
       "version_major": 2,
       "version_minor": 0
      },
      "text/plain": [
       "  0%|          | 0/500 [00:00<?, ?it/s]"
      ]
     },
     "metadata": {},
     "output_type": "display_data"
    },
    {
     "data": {
      "application/vnd.jupyter.widget-view+json": {
       "model_id": "a9301c8e761b48c89c055e645ea1f07c",
       "version_major": 2,
       "version_minor": 0
      },
      "text/plain": [
       "  0%|          | 0/500 [00:00<?, ?it/s]"
      ]
     },
     "metadata": {},
     "output_type": "display_data"
    },
    {
     "data": {
      "application/vnd.jupyter.widget-view+json": {
       "model_id": "cbb7691ea54440eeaab5ee769c44eefe",
       "version_major": 2,
       "version_minor": 0
      },
      "text/plain": [
       "  0%|          | 0/500 [00:00<?, ?it/s]"
      ]
     },
     "metadata": {},
     "output_type": "display_data"
    },
    {
     "data": {
      "application/vnd.jupyter.widget-view+json": {
       "model_id": "efb74f7957274d99aa4b0745e49f7f33",
       "version_major": 2,
       "version_minor": 0
      },
      "text/plain": [
       "  0%|          | 0/500 [00:00<?, ?it/s]"
      ]
     },
     "metadata": {},
     "output_type": "display_data"
    },
    {
     "data": {
      "application/vnd.jupyter.widget-view+json": {
       "model_id": "9019ba1044294251b402ed6fbfe70f4d",
       "version_major": 2,
       "version_minor": 0
      },
      "text/plain": [
       "  0%|          | 0/500 [00:00<?, ?it/s]"
      ]
     },
     "metadata": {},
     "output_type": "display_data"
    },
    {
     "data": {
      "application/vnd.jupyter.widget-view+json": {
       "model_id": "374fcf7a2ef04d6ab5b0732f882d93b4",
       "version_major": 2,
       "version_minor": 0
      },
      "text/plain": [
       "  0%|          | 0/500 [00:00<?, ?it/s]"
      ]
     },
     "metadata": {},
     "output_type": "display_data"
    },
    {
     "data": {
      "application/vnd.jupyter.widget-view+json": {
       "model_id": "a2145d5572134ebf86ea9a40a70b2f9d",
       "version_major": 2,
       "version_minor": 0
      },
      "text/plain": [
       "  0%|          | 0/500 [00:00<?, ?it/s]"
      ]
     },
     "metadata": {},
     "output_type": "display_data"
    },
    {
     "data": {
      "text/plain": [
       "(tensor([[ 1.0000],\n",
       "         [ 2.0000],\n",
       "         [-0.6874],\n",
       "         [ 3.4937],\n",
       "         [-2.2586],\n",
       "         [ 1.4894],\n",
       "         [-3.3328],\n",
       "         [-1.5316],\n",
       "         [-5.0000],\n",
       "         [-5.0000],\n",
       "         [ 5.0000],\n",
       "         [ 4.7935]]),\n",
       " tensor([ 1.6054,  1.5029,  0.9886, -0.7108,  1.1852,  2.1957, -0.0872,  1.0494,\n",
       "          4.1659,  4.1659,  4.8633,  6.5727]))"
      ]
     },
     "execution_count": 4,
     "metadata": {},
     "output_type": "execute_result"
    }
   ],
   "source": [
    "visualize_improvement(\"ei\")"
   ]
  },
  {
   "cell_type": "code",
   "execution_count": 5,
   "id": "d9a58901-792e-4e80-9232-be16cacdf0ea",
   "metadata": {},
   "outputs": [
    {
     "data": {
      "application/vnd.jupyter.widget-view+json": {
       "model_id": "8a21f0b220564f01818132d39bb83b86",
       "version_major": 2,
       "version_minor": 0
      },
      "text/plain": [
       "interactive(children=(Play(value=0, description='Press play', interval=500, max=9), IntSlider(value=0, descrip…"
      ]
     },
     "metadata": {},
     "output_type": "display_data"
    }
   ],
   "source": [
    "play = widgets.Play(\n",
    "    value=0,\n",
    "    min=0,\n",
    "    max=9,\n",
    "    step=1,\n",
    "    interval=500,\n",
    "    description=\"Press play\",\n",
    "    disabled=False,\n",
    ")\n",
    "slider = widgets.IntSlider(min=0, max=9)\n",
    "widgets.jslink((play, \"value\"), (slider, \"value\"))\n",
    "widgets.HBox([play, slider])\n",
    "\n",
    "\n",
    "@interact(play=play, slider=slider)\n",
    "def f(play, slider):\n",
    "    clear_output(wait=True)\n",
    "    display(Image(f\"tmp/ei_{play}.png\"))"
   ]
  }
 ],
 "metadata": {
  "kernelspec": {
   "display_name": "Python 3 (ipykernel)",
   "language": "python",
   "name": "python3"
  },
  "language_info": {
   "codemirror_mode": {
    "name": "ipython",
    "version": 3
   },
   "file_extension": ".py",
   "mimetype": "text/x-python",
   "name": "python",
   "nbconvert_exporter": "python",
   "pygments_lexer": "ipython3",
   "version": "3.12.9"
  }
 },
 "nbformat": 4,
 "nbformat_minor": 5
}
